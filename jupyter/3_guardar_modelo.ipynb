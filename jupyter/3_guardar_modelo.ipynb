{
 "cells": [
  {
   "cell_type": "markdown",
   "metadata": {},
   "source": [
    "## **3) ⚙️ Guardado del modelo con pickle**"
   ]
  },
  {
   "cell_type": "markdown",
   "metadata": {},
   "source": [
    "#### En este notebook, los paso que realizaré son los siguientes:\n",
    "\n",
    "<mark>**1.**</mark> Anteriormente, hice un script de Python para ejecutar todas las transformaciones de ingenieria de variables que debo hacerle al dataset (para no tener que ejecutar todo el notebook cada vez). Entonces, ahora lo que hago es pasar el dataset por el pipeline de ingenieria de variables para tener el dataset limpio para usar. \n",
    "\n",
    "<mark>**2.**</mark> El siguiente paso es el entrenamiento del modelo.\n",
    "\n",
    "<mark>**3.**</mark> Finalmente, guardo el modelo con *.pickle*"
   ]
  },
  {
   "cell_type": "code",
   "execution_count": 1,
   "metadata": {},
   "outputs": [],
   "source": [
    "import sys\n",
    "sys.path.append('..')\n",
    "\n",
    "import pandas as pd, json\n",
    "import pickle\n",
    "import matplotlib.pyplot as plt\n",
    "from py.pipeline import Ingenieria"
   ]
  },
  {
   "cell_type": "markdown",
   "metadata": {},
   "source": [
    "Cargo los datasets necesarios."
   ]
  },
  {
   "cell_type": "markdown",
   "metadata": {},
   "source": [
    "#### <mark>**Paso #1**"
   ]
  },
  {
   "cell_type": "code",
   "execution_count": 2,
   "metadata": {},
   "outputs": [],
   "source": [
    "train = pd.read_csv('../datasets/titanic-train.csv')\n",
    "train_ext = pd.read_csv('../datasets/titanic-train-extended.csv')"
   ]
  },
  {
   "cell_type": "code",
   "execution_count": 3,
   "metadata": {},
   "outputs": [
    {
     "name": "stdout",
     "output_type": "stream",
     "text": [
      "(867, 19)\n"
     ]
    },
    {
     "data": {
      "text/html": [
       "<div>\n",
       "<style scoped>\n",
       "    .dataframe tbody tr th:only-of-type {\n",
       "        vertical-align: middle;\n",
       "    }\n",
       "\n",
       "    .dataframe tbody tr th {\n",
       "        vertical-align: top;\n",
       "    }\n",
       "\n",
       "    .dataframe thead th {\n",
       "        text-align: right;\n",
       "    }\n",
       "</style>\n",
       "<table border=\"1\" class=\"dataframe\">\n",
       "  <thead>\n",
       "    <tr style=\"text-align: right;\">\n",
       "      <th></th>\n",
       "      <th>Survived</th>\n",
       "      <th>Age</th>\n",
       "      <th>Fare</th>\n",
       "      <th>Sex_female</th>\n",
       "      <th>Sex_male</th>\n",
       "      <th>Pclass_1</th>\n",
       "      <th>Pclass_2</th>\n",
       "      <th>Pclass_3</th>\n",
       "      <th>Embarked_C</th>\n",
       "      <th>Embarked_Q</th>\n",
       "      <th>Embarked_S</th>\n",
       "      <th>FamilySize</th>\n",
       "      <th>Title_Master</th>\n",
       "      <th>Title_Miss</th>\n",
       "      <th>Title_Mr</th>\n",
       "      <th>Title_Mrs</th>\n",
       "      <th>FareXPassenger</th>\n",
       "      <th>IsAlone_0</th>\n",
       "      <th>IsAlone_1</th>\n",
       "    </tr>\n",
       "  </thead>\n",
       "  <tbody>\n",
       "    <tr>\n",
       "      <th>0</th>\n",
       "      <td>0.0</td>\n",
       "      <td>0.271174</td>\n",
       "      <td>0.014151</td>\n",
       "      <td>0.0</td>\n",
       "      <td>1.0</td>\n",
       "      <td>0.0</td>\n",
       "      <td>0.0</td>\n",
       "      <td>1.0</td>\n",
       "      <td>0.0</td>\n",
       "      <td>0.0</td>\n",
       "      <td>1.0</td>\n",
       "      <td>1.0</td>\n",
       "      <td>0.0</td>\n",
       "      <td>0.0</td>\n",
       "      <td>1.0</td>\n",
       "      <td>0.0</td>\n",
       "      <td>0.007076</td>\n",
       "      <td>True</td>\n",
       "      <td>False</td>\n",
       "    </tr>\n",
       "    <tr>\n",
       "      <th>1</th>\n",
       "      <td>1.0</td>\n",
       "      <td>0.472229</td>\n",
       "      <td>0.139136</td>\n",
       "      <td>1.0</td>\n",
       "      <td>0.0</td>\n",
       "      <td>1.0</td>\n",
       "      <td>0.0</td>\n",
       "      <td>0.0</td>\n",
       "      <td>1.0</td>\n",
       "      <td>0.0</td>\n",
       "      <td>0.0</td>\n",
       "      <td>1.0</td>\n",
       "      <td>0.0</td>\n",
       "      <td>0.0</td>\n",
       "      <td>0.0</td>\n",
       "      <td>1.0</td>\n",
       "      <td>0.069568</td>\n",
       "      <td>True</td>\n",
       "      <td>False</td>\n",
       "    </tr>\n",
       "    <tr>\n",
       "      <th>2</th>\n",
       "      <td>1.0</td>\n",
       "      <td>0.321438</td>\n",
       "      <td>0.015469</td>\n",
       "      <td>1.0</td>\n",
       "      <td>0.0</td>\n",
       "      <td>0.0</td>\n",
       "      <td>0.0</td>\n",
       "      <td>1.0</td>\n",
       "      <td>0.0</td>\n",
       "      <td>0.0</td>\n",
       "      <td>1.0</td>\n",
       "      <td>0.0</td>\n",
       "      <td>0.0</td>\n",
       "      <td>1.0</td>\n",
       "      <td>0.0</td>\n",
       "      <td>0.0</td>\n",
       "      <td>0.015469</td>\n",
       "      <td>False</td>\n",
       "      <td>True</td>\n",
       "    </tr>\n",
       "    <tr>\n",
       "      <th>3</th>\n",
       "      <td>1.0</td>\n",
       "      <td>0.434531</td>\n",
       "      <td>0.103644</td>\n",
       "      <td>1.0</td>\n",
       "      <td>0.0</td>\n",
       "      <td>1.0</td>\n",
       "      <td>0.0</td>\n",
       "      <td>0.0</td>\n",
       "      <td>0.0</td>\n",
       "      <td>0.0</td>\n",
       "      <td>1.0</td>\n",
       "      <td>1.0</td>\n",
       "      <td>0.0</td>\n",
       "      <td>0.0</td>\n",
       "      <td>0.0</td>\n",
       "      <td>1.0</td>\n",
       "      <td>0.051822</td>\n",
       "      <td>True</td>\n",
       "      <td>False</td>\n",
       "    </tr>\n",
       "    <tr>\n",
       "      <th>4</th>\n",
       "      <td>0.0</td>\n",
       "      <td>0.434531</td>\n",
       "      <td>0.015713</td>\n",
       "      <td>0.0</td>\n",
       "      <td>1.0</td>\n",
       "      <td>0.0</td>\n",
       "      <td>0.0</td>\n",
       "      <td>1.0</td>\n",
       "      <td>0.0</td>\n",
       "      <td>0.0</td>\n",
       "      <td>1.0</td>\n",
       "      <td>0.0</td>\n",
       "      <td>0.0</td>\n",
       "      <td>0.0</td>\n",
       "      <td>1.0</td>\n",
       "      <td>0.0</td>\n",
       "      <td>0.015713</td>\n",
       "      <td>False</td>\n",
       "      <td>True</td>\n",
       "    </tr>\n",
       "  </tbody>\n",
       "</table>\n",
       "</div>"
      ],
      "text/plain": [
       "   Survived       Age      Fare  Sex_female  Sex_male  Pclass_1  Pclass_2  \\\n",
       "0       0.0  0.271174  0.014151         0.0       1.0       0.0       0.0   \n",
       "1       1.0  0.472229  0.139136         1.0       0.0       1.0       0.0   \n",
       "2       1.0  0.321438  0.015469         1.0       0.0       0.0       0.0   \n",
       "3       1.0  0.434531  0.103644         1.0       0.0       1.0       0.0   \n",
       "4       0.0  0.434531  0.015713         0.0       1.0       0.0       0.0   \n",
       "\n",
       "   Pclass_3  Embarked_C  Embarked_Q  Embarked_S  FamilySize  Title_Master  \\\n",
       "0       1.0         0.0         0.0         1.0         1.0           0.0   \n",
       "1       0.0         1.0         0.0         0.0         1.0           0.0   \n",
       "2       1.0         0.0         0.0         1.0         0.0           0.0   \n",
       "3       0.0         0.0         0.0         1.0         1.0           0.0   \n",
       "4       1.0         0.0         0.0         1.0         0.0           0.0   \n",
       "\n",
       "   Title_Miss  Title_Mr  Title_Mrs  FareXPassenger  IsAlone_0  IsAlone_1  \n",
       "0         0.0       1.0        0.0        0.007076       True      False  \n",
       "1         0.0       0.0        1.0        0.069568       True      False  \n",
       "2         1.0       0.0        0.0        0.015469      False       True  \n",
       "3         0.0       0.0        1.0        0.051822       True      False  \n",
       "4         0.0       1.0        0.0        0.015713      False       True  "
      ]
     },
     "execution_count": 3,
     "metadata": {},
     "output_type": "execute_result"
    }
   ],
   "source": [
    "df, transformer = Ingenieria(train, train_ext)\n",
    "print(df.shape)\n",
    "df.head()"
   ]
  },
  {
   "cell_type": "code",
   "execution_count": 4,
   "metadata": {},
   "outputs": [
    {
     "data": {
      "text/plain": [
       "(ColumnTransformer(remainder='passthrough',\n",
       "                   transformers=[('age_imputer',\n",
       "                                  SimpleImputer(strategy='median'), ['Age'])]),\n",
       " ColumnTransformer(remainder='passthrough',\n",
       "                   transformers=[('minmax', MinMaxScaler(),\n",
       "                                  ['Age', 'Fare', 'FareXPassenger'])]))"
      ]
     },
     "execution_count": 4,
     "metadata": {},
     "output_type": "execute_result"
    }
   ],
   "source": [
    "transformer"
   ]
  },
  {
   "cell_type": "markdown",
   "metadata": {},
   "source": [
    "#### <mark>**Paso #2**"
   ]
  },
  {
   "cell_type": "code",
   "execution_count": 5,
   "metadata": {},
   "outputs": [],
   "source": [
    "from sklearn.model_selection import train_test_split\n",
    "\n",
    "x, y = df.drop('Survived', axis = 1), df.Survived\n",
    "x_train, x_test, y_train, y_test = train_test_split(x, y, test_size=0.3, random_state=123)"
   ]
  },
  {
   "cell_type": "code",
   "execution_count": 6,
   "metadata": {},
   "outputs": [],
   "source": [
    "from sklearn.ensemble import RandomForestClassifier\n",
    "from sklearn.metrics import accuracy_score, confusion_matrix\n",
    "\n",
    "params = '{\"n_estimators\":40,\"criterion\":\"gini\",\"max_depth\":17,\"min_samples_split\":2,\"min_samples_leaf\":2}'\n",
    "json_params = json.loads(params)\n",
    "rf = RandomForestClassifier(**json_params, random_state=123).fit(x_train, y_train)\n",
    "y_pred = rf.predict(x_test)\n",
    "\n",
    "acc = accuracy_score(y_test, y_pred)"
   ]
  },
  {
   "cell_type": "code",
   "execution_count": 7,
   "metadata": {},
   "outputs": [
    {
     "data": {
      "image/png": "[encoded data removed]",
      "text/plain": [
       "<Figure size 400x200 with 1 Axes>"
      ]
     },
     "metadata": {},
     "output_type": "display_data"
    }
   ],
   "source": [
    "fig, ax = plt.subplots(figsize=(4, 2))\n",
    "fig.patch.set_facecolor('#f0f0f0')\n",
    "\n",
    "ax.axis('off')\n",
    "ax.text(0.5, 0.7, 'Accuracy obtenido en la \\netapa de entrenamiento', ha='center', va='center', fontsize=12, color='#484848', weight='bold')\n",
    "ax.text(0.5, 0.3, f\"{acc:.5f}\", ha='center', va='center', fontsize=33, color='#007acc', weight='bold')\n",
    "\n",
    "plt.show()"
   ]
  },
  {
   "cell_type": "code",
   "execution_count": 8,
   "metadata": {},
   "outputs": [
    {
     "data": {
      "image/png": "[encoded data removed]",
      "text/plain": [
       "<Figure size 400x300 with 2 Axes>"
      ]
     },
     "metadata": {},
     "output_type": "display_data"
    }
   ],
   "source": [
    "import seaborn as sns\n",
    "import matplotlib.pyplot as plt\n",
    "\n",
    "cm = confusion_matrix(y_test, y_pred)\n",
    "\n",
    "plt.figure(figsize=(4, 3))\n",
    "sns.heatmap(cm, annot=True, fmt='d', cmap='Blues',\n",
    "            xticklabels=['No sobrevivió', 'Sobrevivió'],\n",
    "            yticklabels=['No sobrevivió', 'Sobrevivió'],\n",
    "            annot_kws={\"size\": 20})\n",
    "\n",
    "plt.ylabel('Real', fontweight='bold')\n",
    "plt.xlabel('Predicción', fontweight='bold')\n",
    "plt.title('Matriz de Confusión del Modelo Random Forest')\n",
    "plt.show()"
   ]
  },
  {
   "cell_type": "markdown",
   "metadata": {},
   "source": [
    "#### <mark>**Paso #3**\n",
    "\n",
    "Finalmente, guardo el transformador y el modelo. Para poder guardar el modelo, es necesario que lo entrene con el total de los datos, es decir, todo X y todo Y."
   ]
  },
  {
   "cell_type": "code",
   "execution_count": 9,
   "metadata": {},
   "outputs": [],
   "source": [
    "rf = RandomForestClassifier(**json_params, random_state=123).fit(x, y)\n",
    "\n",
    "# Guardado del modelo\n",
    "with open('../pkl/modelo.pkl', 'wb') as file:\n",
    "    pickle.dump(rf, file)\n",
    "\n",
    "# Guardado del transformador\n",
    "with open('../pkl/transformer.pkl', 'wb') as file:\n",
    "    pickle.dump(transformer, file)"
   ]
  }
 ],
 "metadata": {
  "kernelspec": {
   "display_name": "env",
   "language": "python",
   "name": "python3"
  },
  "language_info": {
   "codemirror_mode": {
    "name": "ipython",
    "version": 3
   },
   "file_extension": ".py",
   "mimetype": "text/x-python",
   "name": "python",
   "nbconvert_exporter": "python",
   "pygments_lexer": "ipython3",
   "version": "3.10.11"
  }
 },
 "nbformat": 4,
 "nbformat_minor": 2
}
